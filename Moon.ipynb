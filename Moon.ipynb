{
 "cells": [
  {
   "cell_type": "code",
   "execution_count": 1,
   "metadata": {},
   "outputs": [],
   "source": [
    "import pandas as pd\n",
    "import matplotlib.pyplot as plt\n",
    "import scipy.stats as stats"
   ]
  },
  {
   "cell_type": "code",
   "execution_count": 2,
   "metadata": {},
   "outputs": [],
   "source": [
    "# Store filepath in a variable\n",
    "Moon_file = \"Resources/MoonAccidents.csv\""
   ]
  },
  {
   "cell_type": "code",
   "execution_count": 3,
   "metadata": {},
   "outputs": [],
   "source": [
    "# Read our Data file with the pandas library\n",
    "Moon_file_df = pd.read_csv(Moon_file, encoding=\"ISO-8859-1\")"
   ]
  },
  {
   "cell_type": "code",
   "execution_count": 4,
   "metadata": {},
   "outputs": [
    {
     "data": {
      "text/html": [
       "<div>\n",
       "<style scoped>\n",
       "    .dataframe tbody tr th:only-of-type {\n",
       "        vertical-align: middle;\n",
       "    }\n",
       "\n",
       "    .dataframe tbody tr th {\n",
       "        vertical-align: top;\n",
       "    }\n",
       "\n",
       "    .dataframe thead th {\n",
       "        text-align: right;\n",
       "    }\n",
       "</style>\n",
       "<table border=\"1\" class=\"dataframe\">\n",
       "  <thead>\n",
       "    <tr style=\"text-align: right;\">\n",
       "      <th></th>\n",
       "      <th>Unnamed: 0</th>\n",
       "      <th>Accident_Severity</th>\n",
       "      <th>Number_of_Casualties</th>\n",
       "      <th>Date</th>\n",
       "      <th>Time</th>\n",
       "      <th>Phase</th>\n",
       "    </tr>\n",
       "  </thead>\n",
       "  <tbody>\n",
       "    <tr>\n",
       "      <td>0</td>\n",
       "      <td>0</td>\n",
       "      <td>Serious</td>\n",
       "      <td>1.0</td>\n",
       "      <td>04-01-2005</td>\n",
       "      <td>17:42</td>\n",
       "      <td>Third Quarter</td>\n",
       "    </tr>\n",
       "    <tr>\n",
       "      <td>1</td>\n",
       "      <td>1</td>\n",
       "      <td>Light</td>\n",
       "      <td>1.0</td>\n",
       "      <td>04-01-2005</td>\n",
       "      <td>18:48</td>\n",
       "      <td>Third Quarter</td>\n",
       "    </tr>\n",
       "    <tr>\n",
       "      <td>2</td>\n",
       "      <td>2</td>\n",
       "      <td>Light</td>\n",
       "      <td>1.0</td>\n",
       "      <td>04-01-2005</td>\n",
       "      <td>18:45</td>\n",
       "      <td>Third Quarter</td>\n",
       "    </tr>\n",
       "    <tr>\n",
       "      <td>3</td>\n",
       "      <td>3</td>\n",
       "      <td>Light</td>\n",
       "      <td>1.0</td>\n",
       "      <td>04-01-2005</td>\n",
       "      <td>19:00</td>\n",
       "      <td>Third Quarter</td>\n",
       "    </tr>\n",
       "    <tr>\n",
       "      <td>4</td>\n",
       "      <td>4</td>\n",
       "      <td>Light</td>\n",
       "      <td>1.0</td>\n",
       "      <td>04-01-2005</td>\n",
       "      <td>19:05</td>\n",
       "      <td>Third Quarter</td>\n",
       "    </tr>\n",
       "  </tbody>\n",
       "</table>\n",
       "</div>"
      ],
      "text/plain": [
       "   Unnamed: 0 Accident_Severity  Number_of_Casualties        Date   Time  \\\n",
       "0           0           Serious                   1.0  04-01-2005  17:42   \n",
       "1           1             Light                   1.0  04-01-2005  18:48   \n",
       "2           2             Light                   1.0  04-01-2005  18:45   \n",
       "3           3             Light                   1.0  04-01-2005  19:00   \n",
       "4           4             Light                   1.0  04-01-2005  19:05   \n",
       "\n",
       "           Phase  \n",
       "0  Third Quarter  \n",
       "1  Third Quarter  \n",
       "2  Third Quarter  \n",
       "3  Third Quarter  \n",
       "4  Third Quarter  "
      ]
     },
     "execution_count": 4,
     "metadata": {},
     "output_type": "execute_result"
    }
   ],
   "source": [
    "Moon_file_df.head()"
   ]
  },
  {
   "cell_type": "code",
   "execution_count": null,
   "metadata": {},
   "outputs": [],
   "source": []
  }
 ],
 "metadata": {
  "kernelspec": {
   "display_name": "Python 3",
   "language": "python",
   "name": "python3"
  },
  "language_info": {
   "codemirror_mode": {
    "name": "ipython",
    "version": 3
   },
   "file_extension": ".py",
   "mimetype": "text/x-python",
   "name": "python",
   "nbconvert_exporter": "python",
   "pygments_lexer": "ipython3",
   "version": "3.7.4"
  }
 },
 "nbformat": 4,
 "nbformat_minor": 2
}
